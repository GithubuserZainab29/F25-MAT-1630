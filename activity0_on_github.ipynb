{
  "nbformat": 4,
  "nbformat_minor": 0,
  "metadata": {
    "colab": {
      "provenance": [],
      "toc_visible": true,
      "include_colab_link": true
    },
    "kernelspec": {
      "name": "python3",
      "display_name": "Python 3"
    },
    "language_info": {
      "name": "python"
    }
  },
  "cells": [
    {
      "cell_type": "markdown",
      "metadata": {
        "id": "view-in-github",
        "colab_type": "text"
      },
      "source": [
        "<a href=\"https://colab.research.google.com/github/GithubuserZainab29/F25-MAT-1630/blob/main/activity0_on_github.ipynb\" target=\"_parent\"><img src=\"https://colab.research.google.com/assets/colab-badge.svg\" alt=\"Open In Colab\"/></a>"
      ]
    },
    {
      "cell_type": "markdown",
      "source": [
        "##Activity 0 (GitHub).\n",
        " This activity is designed to test that the succesful use of GitHub with the repository you have forked.\n",
        "\n",
        "**Exercise:** *Write a program that reads an integer and prints whether it is negative, zero, or\n",
        "positive.*"
      ],
      "metadata": {
        "id": "pWBgGyVS48p6"
      }
    },
    {
      "cell_type": "code",
      "source": [
        "print(\"hi git hub\")"
      ],
      "metadata": {
        "colab": {
          "base_uri": "https://localhost:8080/"
        },
        "id": "jtFF3nfP4nAF",
        "outputId": "8bfc67b3-851a-4f08-9200-bc6975b1323a"
      },
      "execution_count": 1,
      "outputs": [
        {
          "output_type": "stream",
          "name": "stdout",
          "text": [
            "hi git hub\n"
          ]
        }
      ]
    },
    {
      "cell_type": "code",
      "source": [
        "fruits=[\"orange\",\"apple\",\"pineapple\"]\n",
        "print(fruits[2])\n",
        "print(fruits.append(\"banana\"))\n",
        "print(fruits[0:1])\n"
      ],
      "metadata": {
        "colab": {
          "base_uri": "https://localhost:8080/"
        },
        "id": "WuCO6mI-1xWH",
        "outputId": "63532b98-df00-4b6a-9aa3-61a9ab334541"
      },
      "execution_count": 6,
      "outputs": [
        {
          "output_type": "stream",
          "name": "stdout",
          "text": [
            "pineapple\n",
            "None\n",
            "['orange']\n"
          ]
        }
      ]
    },
    {
      "cell_type": "markdown",
      "source": [
        "# New Section"
      ],
      "metadata": {
        "id": "2a7TUeotNmZa"
      }
    },
    {
      "cell_type": "code",
      "source": [
        "import array\n",
        "list4=[]\n",
        "for i in range(1,5):\n",
        "  list4.append(float(f\"{i}.1\"))\n",
        "print(list4)\n",
        "print(list4.append(5.1))\n",
        "\n"
      ],
      "metadata": {
        "id": "4erJRGzyEVJA",
        "outputId": "5fe3eb27-6491-4565-e7c9-e1a2ab75f9f1",
        "colab": {
          "base_uri": "https://localhost:8080/"
        }
      },
      "execution_count": 32,
      "outputs": [
        {
          "output_type": "stream",
          "name": "stdout",
          "text": [
            "[1.1, 2.1, 3.1, 4.1]\n",
            "None\n"
          ]
        }
      ]
    },
    {
      "cell_type": "code",
      "source": [
        "def smallestfun(a,b,c):\n",
        "  return min(a,b,c)\n",
        "def averegenum(a,b,c):\n",
        "  return(a+b+c)/3\n",
        "a=int(input(\"please enter the first num:\"))\n",
        "b=int(input(\"please enter the second num:\"))\n",
        "c=int(input(\"please enter the third num:\"))\n",
        "print(\"the smallest number is\",smallestfun(a,b,c))\n",
        "print(\"the averege of the number is:\",averegenum(a,b,c))"
      ],
      "metadata": {
        "colab": {
          "base_uri": "https://localhost:8080/"
        },
        "id": "r825rFE4NnCg",
        "outputId": "8edd650b-0743-42a1-b51c-76dd2b059e25"
      },
      "execution_count": null,
      "outputs": [
        {
          "output_type": "stream",
          "name": "stdout",
          "text": [
            "please enter the first num:23\n",
            "please enter the second num:34\n",
            "please enter the third num:55\n",
            "the smallest number is 23\n",
            "the averege of the number is: 37.333333333333336\n"
          ]
        }
      ]
    },
    {
      "cell_type": "markdown",
      "source": [],
      "metadata": {
        "id": "3W419-W_5ard"
      }
    },
    {
      "cell_type": "code",
      "source": [
        "integer1=int(input(\"please enter the integer:\"))\n",
        "if integer1==0:\n",
        "  print(\"The integer is zero\")\n",
        "  if integer1>=0:\n",
        "    print(\"The integer is positive\")\n",
        "else:\n",
        "  print(\"The integer is negative\")"
      ],
      "metadata": {
        "id": "YKcjUc-h8Y_n",
        "colab": {
          "base_uri": "https://localhost:8080/"
        },
        "outputId": "9fa7ad96-2114-4f9f-d5eb-d59065263b99"
      },
      "execution_count": null,
      "outputs": [
        {
          "output_type": "stream",
          "name": "stdout",
          "text": [
            "please enter the integer:-9\n",
            "The integer is negative\n"
          ]
        }
      ]
    },
    {
      "cell_type": "code",
      "source": [
        "## code goes here"
      ],
      "metadata": {
        "id": "alhjPK7J5d1e"
      },
      "execution_count": null,
      "outputs": []
    },
    {
      "cell_type": "markdown",
      "source": [
        "\n",
        "\n",
        "\n",
        "\n",
        "\n",
        "\n",
        "1.   this is published on the course repository\n",
        "2.   click the “Open in Colab” badge/link provided in the repo\n",
        "3.   add your solution and/or modifications in Colab\n",
        "4.   from Colab, save in GitHub to the forked repository\n",
        "5. “pull request” (comment what is the pull request about)\n",
        "6. \"merge\"\n",
        "\n",
        "\n"
      ],
      "metadata": {
        "id": "PFiONV-U5fuW"
      }
    }
  ]
}