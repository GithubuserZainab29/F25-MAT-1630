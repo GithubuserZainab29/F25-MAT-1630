{
  "nbformat": 4,
  "nbformat_minor": 0,
  "metadata": {
    "colab": {
      "provenance": [],
      "toc_visible": true,
      "name": "list_analysis.ipynb",
      "include_colab_link": true
    },
    "kernelspec": {
      "name": "python3",
      "display_name": "Python 3"
    },
    "language_info": {
      "name": "python"
    }
  },
  "cells": [
    {
      "cell_type": "markdown",
      "metadata": {
        "id": "view-in-github",
        "colab_type": "text"
      },
      "source": [
        "<a href=\"https://colab.research.google.com/github/GithubuserZainab29/F25-MAT-1630/blob/main/list_analysis.ipynb\" target=\"_parent\"><img src=\"https://colab.research.google.com/assets/colab-badge.svg\" alt=\"Open In Colab\"/></a>"
      ]
    },
    {
      "cell_type": "code",
      "source": [
        "#question 3 (home programming exercise)\n",
        "list1=[20,4,59,42,30,2,29,27]\n",
        "#creating a list of random numbers\n",
        "evencount=0\n",
        "#even count variable for a value 0\n",
        "\n",
        "oddcount=0\n",
        "#odd count variable for a value 0\n",
        "\n",
        "list2=[] # creating list2 varibale the the value of an empty list\n",
        "\n",
        "for i in list1:  # A for loop from i to the list1\n",
        "\n",
        "  if i % 2 == 0: # if i is divisble by 2 and the reminder is 0 then add 1 to the evencount variable\n",
        "\n",
        "    evencount=evencount+1 # adding 1 to everytime there is a even number in evencount\n",
        "\n",
        "    list2.append(i)\n",
        "  else:  # if i is not even then add 1 in the oddcount variable\n",
        "\n",
        "    oddcount=oddcount+1\n",
        "\n",
        "#promting a message of how many eevn or odd numbers are there in the list\n",
        "print(f\" There are  {evencount} even numbers in the list  and {oddcount} odd numbers in the list.\")\n",
        "\n",
        "print(\" list of even numbers is =\",list2)\n",
        "# promting the message of even number in the new empty list2"
      ],
      "metadata": {
        "colab": {
          "base_uri": "https://localhost:8080/"
        },
        "id": "Eo-cdNEPXhar",
        "outputId": "6b4c5df2-c286-4ea5-bb02-9b7f839aabc5"
      },
      "execution_count": 11,
      "outputs": [
        {
          "output_type": "stream",
          "name": "stdout",
          "text": [
            " There are  5 even numbers in the list  and 3 odd numbers in the list.\n",
            " list of even numbers is = [20, 4, 42, 30, 2]\n"
          ]
        }
      ]
    }
  ]
}