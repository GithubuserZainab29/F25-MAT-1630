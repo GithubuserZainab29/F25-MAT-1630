{
  "nbformat": 4,
  "nbformat_minor": 0,
  "metadata": {
    "colab": {
      "provenance": [],
      "include_colab_link": true
    },
    "kernelspec": {
      "name": "python3",
      "display_name": "Python 3"
    },
    "language_info": {
      "name": "python"
    }
  },
  "cells": [
    {
      "cell_type": "markdown",
      "metadata": {
        "id": "view-in-github",
        "colab_type": "text"
      },
      "source": [
        "<a href=\"https://colab.research.google.com/github/GithubuserZainab29/F25-MAT-1630/blob/main/Copy_of_Activity0_on_GitHub.ipynb\" target=\"_parent\"><img src=\"https://colab.research.google.com/assets/colab-badge.svg\" alt=\"Open In Colab\"/></a>"
      ]
    },
    {
      "cell_type": "markdown",
      "source": [
        "##Activity 0 (GitHub).\n",
        " This activity is designed to test that the succesful use of GitHub with the repository you have forked.\n",
        "\n",
        "**Exercise:** *Write a program that reads an integer and prints whether it is negative, zero, or\n",
        "positive.*"
      ],
      "metadata": {
        "id": "pWBgGyVS48p6"
      }
    },
    {
      "cell_type": "code",
      "source": [
        "total=0.0\n",
        "count=0\n",
        "inputstring=input(\"enter a value:\")\n",
        "while inputstring!=\"\":\n",
        "  value=float(inputstring)\n",
        "  total=total+1\n",
        "  inputstring=input(\"enter a new value:\")\n",
        "  if count >0:\n",
        "    average=total/count\n",
        "  else:\n",
        "    average=0.0"
      ],
      "metadata": {
        "colab": {
          "base_uri": "https://localhost:8080/"
        },
        "id": "HEAkvtjHOfQk",
        "outputId": "56718f07-a517-427b-932a-376992ea6d11"
      },
      "execution_count": null,
      "outputs": [
        {
          "name": "stdout",
          "output_type": "stream",
          "text": [
            "enter a value:23\n",
            "enter a new value:23\n",
            "enter a new value:24\n",
            "enter a new value:234\n"
          ]
        }
      ]
    },
    {
      "cell_type": "markdown",
      "source": [],
      "metadata": {
        "id": "3W419-W_5ard"
      }
    },
    {
      "cell_type": "code",
      "source": [
        "integer1=int(input(\"please enter the integer:\"))\n",
        "if integer1==0:\n",
        "  print(\"The integer is zero\")\n",
        "  if integer1>=0:\n",
        "    print(\"The integer is positive\")\n",
        "else:\n",
        "  print(\"The integer is negative\")"
      ],
      "metadata": {
        "id": "YKcjUc-h8Y_n",
        "colab": {
          "base_uri": "https://localhost:8080/"
        },
        "outputId": "9fa7ad96-2114-4f9f-d5eb-d59065263b99"
      },
      "execution_count": null,
      "outputs": [
        {
          "output_type": "stream",
          "name": "stdout",
          "text": [
            "please enter the integer:-9\n",
            "The integer is negative\n"
          ]
        }
      ]
    },
    {
      "cell_type": "code",
      "source": [
        "## code goes here"
      ],
      "metadata": {
        "id": "alhjPK7J5d1e"
      },
      "execution_count": null,
      "outputs": []
    },
    {
      "cell_type": "markdown",
      "source": [
        "\n",
        "\n",
        "\n",
        "\n",
        "\n",
        "\n",
        "1.   this is published on the course repository\n",
        "2.   click the “Open in Colab” badge/link provided in the repo\n",
        "3.   add your solution and/or modifications in Colab\n",
        "4.   from Colab, save in GitHub to the forked repository\n",
        "5. “pull request” (comment what is the pull request about)\n",
        "6. \"merge\"\n",
        "\n",
        "\n"
      ],
      "metadata": {
        "id": "PFiONV-U5fuW"
      }
    }
  ]
}